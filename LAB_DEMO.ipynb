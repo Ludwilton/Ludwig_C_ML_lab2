{
 "cells": [
  {
   "cell_type": "code",
   "execution_count": 1,
   "id": "3127a3fb",
   "metadata": {},
   "outputs": [],
   "source": [
    "from reco_engine import RecommendationEngine\n",
    "\n",
    "engine = RecommendationEngine()\n"
   ]
  },
  {
   "cell_type": "markdown",
   "id": "712c0c62",
   "metadata": {},
   "source": [
    "# letterboxd data rekommendationer\n"
   ]
  },
  {
   "cell_type": "code",
   "execution_count": 2,
   "id": "10b67024",
   "metadata": {},
   "outputs": [
    {
     "name": "stdout",
     "output_type": "stream",
     "text": [
      "1. Before Sunrise (1995)\n",
      "2. Aliens (1986)\n",
      "3. Before Midnight (2013)\n",
      "4. Everything Everywhere All at Once (2022)\n",
      "5. To Kill a Mockingbird (1962)\n",
      "6. Royal Tenenbaums, The (2001)\n",
      "7. Three Colors: Blue (Trois couleurs: Bleu) (1993)\n",
      "8. Three Colors: White (Trzy kolory: Bialy) (1994)\n",
      "9. Garden State (2004)\n",
      "10. Rushmore (1998)\n",
      "11. In the Mood For Love (Fa yeung nin wa) (2000)\n",
      "12. The Handmaiden (2016)\n",
      "13. Reservoir Dogs (1992)\n",
      "14. Fight Club (1999)\n",
      "15. Get Out (2017)\n",
      "16. Life Aquatic with Steve Zissou, The (2004)\n",
      "17. School of Rock (2003)\n",
      "18. The Banshees of Inisherin (2022)\n",
      "19. Boyhood (2014)\n",
      "20. Chaser, The (Chugyeogja) (2008)\n",
      "21. The Batman (2022)\n",
      "22. Persona (1966)\n",
      "23. Mother (Madeo) (2009)\n",
      "24. Clockwork Orange, A (1971)\n",
      "25. Parasite (2019)\n"
     ]
    }
   ],
   "source": [
    "engine.letterboxd_csv_recommendation(\"letterboxd_testsets/zorrodor.csv\", 25)\n"
   ]
  },
  {
   "cell_type": "markdown",
   "id": "b8155a7c",
   "metadata": {},
   "source": [
    "### Zorro:\n",
    "\"Dom första 20 är alla bra filmer\n",
    "Eller de e nästan bara grejer jag gillar\n",
    "Några luriga dock men de mesta e gött\n",
    "Jag har rateat ganska lite också\n",
    "Så den har inte sååå mkt att gå på\"\n"
   ]
  },
  {
   "cell_type": "code",
   "execution_count": 3,
   "id": "173556e7",
   "metadata": {},
   "outputs": [
    {
     "name": "stdout",
     "output_type": "stream",
     "text": [
      "1. Rushmore (1998)\n",
      "2. Princess Mononoke (Mononoke-hime) (1997)\n",
      "3. Laputa: Castle in the Sky (Tenkû no shiro Rapyuta) (1986)\n",
      "4. Life Aquatic with Steve Zissou, The (2004)\n",
      "5. Aliens (1986)\n",
      "6. Nausicaä of the Valley of the Wind (Kaze no tani no Naushika) (1984)\n",
      "7. Batman Begins (2005)\n",
      "8. Mean Girls (2004)\n",
      "9. Dark Knight Rises, The (2012)\n",
      "10. Ghost World (2001)\n",
      "11. Before Sunset (2004)\n",
      "12. Singin' in the Rain (1952)\n",
      "13. Legally Blonde (2001)\n",
      "14. West Side Story (1961)\n",
      "15. Mary Poppins (1964)\n",
      "16. Grease (1978)\n",
      "17. Inception (2010)\n",
      "18. Lost in Translation (2003)\n",
      "19. Grave of the Fireflies (Hotaru no haka) (1988)\n",
      "20. Silver Linings Playbook (2012)\n",
      "21. Get Out (2017)\n",
      "22. Cruel Intentions (1999)\n",
      "23. Fight Club (1999)\n",
      "24. Moonlight\n",
      "25. Spirited Away (Sen to Chihiro no kamikakushi) (2001)\n"
     ]
    }
   ],
   "source": [
    "engine.letterboxd_csv_recommendation(\"letterboxd_testsets/livvycool.csv\", 25)"
   ]
  },
  {
   "cell_type": "markdown",
   "id": "37e7f64b",
   "metadata": {},
   "source": [
    "\n",
    "### Liv:\n",
    "\"Ja men helt okej ändå! Har dock sett typ hälften… hmm känns som det är bra variation o så på åren eftersom jag gillar både nya o gamla filmer, hade dock sett lite mer nouvelle vague aktiga filmer och lite färre dude filmer hahah\n",
    "\n",
    "Men grejen är också att jag kollar på så  mycket olika filmer att det kan va svårt att skilja på vad jag bara gillar och vad som är min ”typ av film”\n",
    "\n",
    "Gillar ju verkligen gamla och lite konstiga nisch filmer ibland\""
   ]
  },
  {
   "cell_type": "code",
   "execution_count": 4,
   "id": "461cca3e",
   "metadata": {},
   "outputs": [
    {
     "name": "stdout",
     "output_type": "stream",
     "text": [
      "1. Reservoir Dogs (1992)\n",
      "2. Shawshank Redemption, The (1994)\n",
      "3. Jojo Rabbit (2019)\n",
      "4. Departed, The (2006)\n",
      "5. Matrix, The (1999)\n",
      "6. Fargo (1996)\n",
      "7. WALL·E (2008)\n",
      "8. Blade Runner 2049 (2017)\n",
      "9. Zodiac (2007)\n",
      "10. The Hateful Eight (2015)\n",
      "11. Juno (2007)\n",
      "12. Interstellar (2014)\n",
      "13. American Beauty (1999)\n",
      "14. Uncut Gems (2019)\n",
      "15. Whiplash (2013)\n",
      "16. Ferris Bueller's Day Off (1986)\n",
      "17. Lost in Translation (2003)\n",
      "18. Ford v. Ferrari (2019)\n",
      "19. Hercules (1997)\n",
      "20. Black Swan (2010)\n",
      "21. Gone Girl (2014)\n",
      "22. Prestige, The (2006)\n",
      "23. Nope (2022)\n",
      "24. Being John Malkovich (1999)\n",
      "25. Tenet (2020)\n",
      "26. Aladdin (1992)\n",
      "27. Soul (2020)\n",
      "28. Three Billboards Outside Ebbing, Missouri (2017)\n",
      "29. Iron Giant, The (1999)\n",
      "30. My Neighbor Totoro (Tonari no Totoro) (1988)\n"
     ]
    }
   ],
   "source": [
    "engine.letterboxd_csv_recommendation(\"letterboxd_testsets/voided.csv\", 30)"
   ]
  },
  {
   "cell_type": "markdown",
   "id": "1a640ca8",
   "metadata": {},
   "source": [
    "### Kevin:\n",
    "\"jo men det gör dom, har typ alla på min watchlist haha\n",
    "och det stämmer att de jag redan hade sett som totoro hade jag inte rateat\"\n"
   ]
  },
  {
   "cell_type": "code",
   "execution_count": 5,
   "id": "9672e131",
   "metadata": {},
   "outputs": [
    {
     "name": "stdout",
     "output_type": "stream",
     "text": [
      "Found match for title '2001: A Space Odyssey' in dataset: 2001: A Space Odyssey (1968)\n",
      "\n",
      "If you like 2001: A Space Odyssey (1968), you might also enjoy:\n",
      "1. Dr. Strangelove or: How I Learned to Stop Worrying and Love the Bomb (1964)\n",
      "2. Clockwork Orange, A (1971)\n",
      "3. Citizen Kane (1941)\n",
      "4. Blade Runner (1982)\n",
      "5. Graduate, The (1967)\n",
      "6. Eyes Wide Shut (1999)\n",
      "7. Pulp Fiction (1994)\n",
      "8. Close Encounters of the Third Kind (1977)\n",
      "9. Planet of the Apes (1968)\n",
      "10. Barry Lyndon (1975)\n",
      "11. 2010: The Year We Make Contact (1984)\n",
      "12. Easy Rider (1969)\n",
      "13. E.T. the Extra-Terrestrial (1982)\n",
      "14. Alien (1979)\n",
      "15. Starship Troopers (1997)\n",
      "16. A.I. Artificial Intelligence (2001)\n",
      "17. Thing, The (1982)\n",
      "18. Abyss, The (1989)\n",
      "19. Girl Who Leapt Through Time, The (Toki o kakeru shôjo) (2006)\n",
      "20. Contact (1997)\n",
      "21. Event Horizon (1997)\n",
      "22. Stargate (1994)\n",
      "23. 5 Centimeters per Second (Byôsoku 5 senchimêtoru) (2007)\n",
      "24. Paprika (Papurika) (2006)\n",
      "25. Silence of the Lambs, The (1991)\n"
     ]
    }
   ],
   "source": [
    "\n",
    "engine.title_recommendation(\"2001: A Space Odyssey\", 25)"
   ]
  },
  {
   "cell_type": "markdown",
   "id": "533020df",
   "metadata": {},
   "source": [
    "# Titel rekommendationer\n",
    "Även om modellen är tränad för att hitta user patterns så fungerar den förvånansvärt bra på att rekommendera filmer från en enskild titel, även om rekommendationerna är ganska generic"
   ]
  },
  {
   "cell_type": "code",
   "execution_count": 6,
   "id": "a2626477",
   "metadata": {},
   "outputs": [
    {
     "name": "stdout",
     "output_type": "stream",
     "text": [
      "Found match for title 'WALL·E (2008)' in dataset: WALL·E (2008)\n",
      "\n",
      "If you like WALL·E (2008), you might also enjoy:\n",
      "1. Up (2009)\n",
      "2. Ratatouille (2007)\n",
      "3. Toy Story 3 (2010)\n",
      "4. Incredibles, The (2004)\n",
      "5. Finding Nemo (2003)\n",
      "6. Cars (2006)\n",
      "7. Kung Fu Panda (2008)\n",
      "8. Avatar (2009)\n",
      "9. Inside Out (2015)\n",
      "10. Iron Man (2008)\n"
     ]
    }
   ],
   "source": [
    "engine.title_recommendation(\"WALL·E (2008)\",10) # west-animated"
   ]
  },
  {
   "cell_type": "code",
   "execution_count": 7,
   "id": "07c2ce54",
   "metadata": {},
   "outputs": [
    {
     "name": "stdout",
     "output_type": "stream",
     "text": [
      "Found match for title 'Perfect Blue (1997)' in dataset: Perfect Blue (1997)\n",
      "\n",
      "If you like Perfect Blue (1997), you might also enjoy:\n",
      "1. Akira (1988)\n",
      "2. Ghost in the Shell (Kôkaku kidôtai) (1995)\n",
      "3. Paprika (Papurika) (2006)\n",
      "4. Girl Who Leapt Through Time, The (Toki o kakeru shôjo) (2006)\n",
      "5. Your Name. (2016)\n",
      "6. Wolf Children (Okami kodomo no ame to yuki) (2012)\n",
      "7. Neon Genesis Evangelion: The End of Evangelion (Shin seiki Evangelion Gekijô-ban: Air/Magokoro wo, kimi ni) (1997)\n",
      "8. Summer Wars (Samâ wôzu) (2009)\n",
      "9. Tokyo Godfathers (2003)\n",
      "10. Cowboy Bebop: The Movie (Cowboy Bebop: Tengoku no Tobira) (2001)\n"
     ]
    }
   ],
   "source": [
    "engine.title_recommendation(\"Perfect Blue (1997)\",10) # .. säger sig självt\n"
   ]
  },
  {
   "cell_type": "code",
   "execution_count": 8,
   "id": "d38b09e5",
   "metadata": {},
   "outputs": [
    {
     "name": "stdout",
     "output_type": "stream",
     "text": [
      "Found match for title 'Saw III' in dataset: Saw III (2006)\n",
      "\n",
      "If you like Saw III (2006), you might also enjoy:\n",
      "1. Saw (2004)\n",
      "2. Saw II (2005)\n",
      "3. Saw IV (2007)\n",
      "4. Saw (2003)\n",
      "5. Final Destination (2000)\n",
      "6. Red Dragon (2002)\n",
      "7. Saw V (2008)\n",
      "8. Hostel (2005)\n",
      "9. Hannibal (2001)\n",
      "10. Saw VI (2009)\n"
     ]
    }
   ],
   "source": [
    "engine.title_recommendation(\"Saw III\",10) # kass skräck"
   ]
  },
  {
   "cell_type": "code",
   "execution_count": 9,
   "id": "a88a247d",
   "metadata": {},
   "outputs": [
    {
     "name": "stdout",
     "output_type": "stream",
     "text": [
      "Found match for title 'a quiet place' in dataset: A Quiet Place (2018)\n",
      "\n",
      "If you like A Quiet Place (2018), you might also enjoy:\n",
      "1. Get Out (2017)\n",
      "2. Split (2017)\n",
      "3. 10 Cloverfield Lane (2016)\n",
      "4. It (2017)\n",
      "5. Us (2019)\n",
      "6. Bird Box (2018)\n",
      "7. Happy Death Day (2017)\n",
      "8. Searching (2018)\n",
      "9. The Invisible Man (2020)\n",
      "10. Life (2017)\n"
     ]
    }
   ],
   "source": [
    "engine.title_recommendation(\"a quiet place\",10) # liite mindre kass skräck"
   ]
  },
  {
   "cell_type": "code",
   "execution_count": 10,
   "id": "edb08ad5",
   "metadata": {},
   "outputs": [
    {
     "name": "stdout",
     "output_type": "stream",
     "text": [
      "Found match for title 'Twilight (2008)' in dataset: Twilight (2008)\n",
      "\n",
      "If you like Twilight (2008), you might also enjoy:\n",
      "1. Cinderella Story, A (2004)\n",
      "2. Twilight Saga: Eclipse, The (2010)\n",
      "3. Twilight Saga: New Moon, The (2009)\n",
      "4. Twilight Saga: Breaking Dawn - Part 1, The (2011)\n",
      "5. High School Musical (2006)\n",
      "6. Twilight Saga: Breaking Dawn - Part 2, The (2012)\n",
      "7. The Fault in Our Stars (2014)\n",
      "8. Princess Diaries 2: Royal Engagement, The (2004)\n",
      "9. The DUFF (2015)\n",
      "10. She's the Man (2006)\n"
     ]
    }
   ],
   "source": [
    "engine.title_recommendation(\"Twilight (2008)\",10) # shit in, shit out.. :)"
   ]
  },
  {
   "cell_type": "code",
   "execution_count": 11,
   "id": "3535dee9",
   "metadata": {},
   "outputs": [
    {
     "name": "stdout",
     "output_type": "stream",
     "text": [
      "Found match for title 'Salinui chueok' in dataset: Memories of Murder (Salinui chueok) (2003)\n",
      "\n",
      "If you like Memories of Murder (Salinui chueok) (2003), you might also enjoy:\n",
      "1. I Saw the Devil (Akmareul boatda) (2010)\n",
      "2. Chaser, The (Chugyeogja) (2008)\n",
      "3. The Man from Nowhere (2010)\n",
      "4. Mother (Madeo) (2009)\n",
      "5. The Handmaiden (2016)\n",
      "6. Bittersweet Life, A (Dalkomhan insaeng) (2005)\n",
      "7. The Raid: Redemption (2011)\n",
      "8. The Wailing (2016)\n",
      "9. Lady Vengeance (Sympathy for Lady Vengeance) (Chinjeolhan geumjassi) (2005)\n",
      "10. Sympathy for Mr. Vengeance (Boksuneun naui geot) (2002)\n"
     ]
    }
   ],
   "source": [
    "engine.title_recommendation(\"Salinui chueok\",10) # koreanskt\n"
   ]
  },
  {
   "cell_type": "code",
   "execution_count": 12,
   "id": "5e605964",
   "metadata": {},
   "outputs": [
    {
     "name": "stdout",
     "output_type": "stream",
     "text": [
      "Found match for title 'Tillsammans' in dataset: Together (Tillsammans) (2000)\n",
      "\n",
      "If you like Together (Tillsammans) (2000), you might also enjoy:\n",
      "1. Celebration, The (Festen) (1998)\n",
      "2. Show Me Love (Fucking Åmål) (1998)\n",
      "3. Femme Nikita, La (Nikita) (1990)\n",
      "4. Big Blue, The (Grand bleu, Le) (1988)\n",
      "5. Breaking the Waves (1996)\n",
      "6. Man Without a Past, The (Mies vailla menneisyyttä) (2002)\n",
      "7. O Brother, Where Art Thou? (2000)\n",
      "8. Commitments, The (1991)\n",
      "9. Italian for Beginners (Italiensk for begyndere) (2000)\n",
      "10. Secrets & Lies (1996)\n"
     ]
    }
   ],
   "source": [
    "engine.title_recommendation(\"Tillsammans\",10) # svenskt"
   ]
  },
  {
   "cell_type": "code",
   "execution_count": 13,
   "id": "d63a96ca",
   "metadata": {},
   "outputs": [
    {
     "name": "stdout",
     "output_type": "stream",
     "text": [
      "Found match for title 'alien' in dataset: Alien (1979)\n",
      "\n",
      "If you like Alien (1979), you might also enjoy:\n",
      "1. Aliens (1986)\n",
      "2. Alien³ (a.k.a. Alien 3) (1992)\n",
      "3. Alien: Resurrection (1997)\n",
      "4. Predator (1987)\n",
      "5. Silence of the Lambs, The (1991)\n",
      "6. Jaws (1975)\n",
      "7. Prometheus (2012)\n",
      "8. Alien: Covenant (2017)\n",
      "9. Matrix, The (1999)\n",
      "10. Blade Runner (1982)\n"
     ]
    }
   ],
   "source": [
    "engine.title_recommendation(\"alien\",10) # titel specifikt.."
   ]
  },
  {
   "cell_type": "code",
   "execution_count": 14,
   "id": "311e3a0e",
   "metadata": {},
   "outputs": [
    {
     "name": "stdout",
     "output_type": "stream",
     "text": [
      "Found match for title 'come and see' in dataset: Come and See (Idi i smotri) (1985)\n",
      "\n",
      "If you like Come and See (Idi i smotri) (1985), you might also enjoy:\n",
      "1. Stalker (1979)\n",
      "2. Solaris (Solyaris) (1972)\n",
      "3. Mirror, The (Zerkalo) (1975)\n",
      "4. Andrei Rublev (Andrey Rublyov) (1969)\n",
      "5. Persona (1966)\n",
      "6. Seventh Seal, The (Sjunde inseglet, Det) (1957)\n",
      "7. Ivan's Childhood (a.k.a. My Name is Ivan) (Ivanovo detstvo) (1962)\n",
      "8. Sacrifice, The (Offret - Sacraficatio) (1986)\n",
      "9. Nostalghia (1983)\n",
      "10. Woman in the Dunes (Suna no onna) (1964)\n"
     ]
    }
   ],
   "source": [
    "engine.title_recommendation(\"come and see\",10) # bra från -85"
   ]
  },
  {
   "cell_type": "code",
   "execution_count": 15,
   "id": "8df036c3",
   "metadata": {},
   "outputs": [
    {
     "name": "stdout",
     "output_type": "stream",
     "text": [
      "Found match for title 'Fight club' in dataset: Fight Club (1999)\n",
      "\n",
      "If you like Fight Club (1999), you might also enjoy:\n",
      "1. American History X (1998)\n",
      "2. Seven (a.k.a. Se7en) (1995)\n",
      "3. Silence of the Lambs, The (1991)\n",
      "4. Trainspotting (1996)\n",
      "5. Eternal Sunshine of the Spotless Mind (2004)\n",
      "6. Pulp Fiction (1994)\n",
      "7. Snatch (2000)\n",
      "8. Lock, Stock & Two Smoking Barrels (1998)\n",
      "9. American Beauty (1999)\n",
      "10. Shawshank Redemption, The (1994)\n"
     ]
    }
   ],
   "source": [
    "engine.title_recommendation(\"Fight club\",10) # film-bro starterpack\n",
    "\n"
   ]
  },
  {
   "cell_type": "markdown",
   "id": "270873cb",
   "metadata": {},
   "source": [
    "### lddec / egen feedback\n",
    "Många rekommendationer är filmer som jag sett men inte rateat, det är också många filmer som jag har haft i min s.k watchlist länge men inte sett ännu, båda dessa är tecken på att modellen fungerar bra.\n",
    "\n",
    "Det enda negativa är att det känns som modellen fastnat i \"presence\" fällan som många rekommendationsmodeller gör. Alltså tar det inte i åtanke *vad* jag rateat en film, utan bara *om* jag har rateat den. \n",
    "\n",
    "Detta går såklart att undkomma med lite olika tekniker som jag inte implementerat här men håller på med att implementera i versionen som har ett helt GUI och är planerad att deployas som en \"letterboxd blend\" sida. (valde att inte länka den som labb eftersom jag inte känner mig klar och mestadels av det arbetet där är inget som är relevant för labben/betyg ändå). \n",
    "\n",
    "Teknikerna man kan använda här är att kanske sortera ut filmer under en viss rating i användar-datasetet, på så sätt elimineras \"presence\" problemet, en annan lösning vore att sätta bias på filmer med hög rating i rekommendationslistan som genereras av modellen.\n",
    "\n",
    "*obs att detta händer redan i vissa fall där extrema outliers finns i user-datasettet, te.x om en användare har 50 filmer med betyg 5, och en på 0.5, så skulle troligtvis denna på 0.5 sättas till 0, dvs ingen presence.*\n",
    "\n",
    "Går såklart att göra mycket, som att sortera ut filmer efter genre, populäritet, nischar osv osv. Det är sällan en rekommendationsmotor går *endast* på vad modellen spottar ut utan ytterliggare filtrering.\n",
    "\n",
    "Som slutsats, modellen fungerar bra, och plockar upp användar-stiler även på små dataset, men bryr sig väldigt lite om rating, Jag hade dock troligtvis använt en annan modell om det fanns tillgång till mer features, såsom regissörer, skådespelare, mikrogenres, teman, cinematographer, runtime, country origin osv, osv. Men för just detta datasettet så tror jag mest på collaborative filtering."
   ]
  }
 ],
 "metadata": {
  "kernelspec": {
   "display_name": ".venv",
   "language": "python",
   "name": "python3"
  },
  "language_info": {
   "codemirror_mode": {
    "name": "ipython",
    "version": 3
   },
   "file_extension": ".py",
   "mimetype": "text/x-python",
   "name": "python",
   "nbconvert_exporter": "python",
   "pygments_lexer": "ipython3",
   "version": "3.13.2"
  }
 },
 "nbformat": 4,
 "nbformat_minor": 5
}
